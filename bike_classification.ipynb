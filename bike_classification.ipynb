{
 "cells": [
  {
   "cell_type": "code",
   "execution_count": 1,
   "metadata": {},
   "outputs": [
    {
     "name": "stderr",
     "output_type": "stream",
     "text": [
      "Using TensorFlow backend.\n"
     ]
    }
   ],
   "source": [
    "from keras.models import Sequential\n",
    "from keras.layers import Conv2D\n",
    "from keras.layers import MaxPooling2D\n",
    "from keras.layers import Flatten\n",
    "from keras.layers import Dense\n"
   ]
  },
  {
   "cell_type": "code",
   "execution_count": 2,
   "metadata": {},
   "outputs": [],
   "source": [
    "# Initialising the CNN\n",
    "classifier = Sequential()\n",
    "\n",
    "# Step 1 - Convolution\n",
    "classifier.add(Conv2D(64, (5, 5), input_shape = (150, 150, 3), activation = 'relu'))\n",
    "\n",
    "# Step 2 - Pooling\n",
    "classifier.add(MaxPooling2D(pool_size = (2, 2)))\n",
    "\n",
    "# Adding a second convolutional layer\n",
    "classifier.add(Conv2D(128, (5, 5), activation = 'relu'))\n",
    "classifier.add(MaxPooling2D(pool_size = (2, 2)))\n",
    "\n",
    "# Adding a third convolutional layer\n",
    "classifier.add(Conv2D(256, (5, 5), activation = 'relu'))\n",
    "classifier.add(MaxPooling2D(pool_size = (2, 2)))\n",
    "\n",
    "# Step 3 - Flattening\n",
    "classifier.add(Flatten())\n",
    "\n",
    "# Step 4 - Full connection\n",
    "classifier.add(Dense(units = 128, activation = 'relu'))\n",
    "classifier.add(Dense(units = 1, activation = 'sigmoid'))\n",
    "\n",
    "# Compiling the CNN\n",
    "classifier.compile(optimizer = 'adam', loss = 'binary_crossentropy', metrics = ['accuracy'])\n"
   ]
  },
  {
   "cell_type": "code",
   "execution_count": 3,
   "metadata": {},
   "outputs": [
    {
     "name": "stdout",
     "output_type": "stream",
     "text": [
      "Found 151 images belonging to 2 classes.\n",
      "Found 47 images belonging to 2 classes.\n",
      "Epoch 1/15\n",
      "151/151 [==============================] - 45s 299ms/step - loss: 0.2222 - acc: 0.9252 - val_loss: 0.0060 - val_acc: 1.0000\n",
      "Epoch 2/15\n",
      "151/151 [==============================] - 40s 268ms/step - loss: 0.0708 - acc: 0.9808 - val_loss: 8.2632e-05 - val_acc: 1.0000\n",
      "Epoch 3/15\n",
      "151/151 [==============================] - 40s 264ms/step - loss: 1.4340e-04 - acc: 1.0000 - val_loss: 9.5007e-05 - val_acc: 1.0000\n",
      "Epoch 4/15\n",
      "151/151 [==============================] - 40s 266ms/step - loss: 0.0032 - acc: 0.9992 - val_loss: 1.2212e-05 - val_acc: 1.0000\n",
      "Epoch 5/15\n",
      "151/151 [==============================] - 40s 265ms/step - loss: 0.1020 - acc: 0.9824 - val_loss: 1.1275e-07 - val_acc: 1.0000\n",
      "Epoch 6/15\n",
      "151/151 [==============================] - 40s 264ms/step - loss: 2.2865e-05 - acc: 1.0000 - val_loss: 1.1025e-07 - val_acc: 1.0000\n",
      "Epoch 7/15\n",
      "151/151 [==============================] - 40s 265ms/step - loss: 2.3283e-06 - acc: 1.0000 - val_loss: 1.1022e-07 - val_acc: 1.0000\n",
      "Epoch 8/15\n",
      "151/151 [==============================] - 40s 267ms/step - loss: 1.9812e-06 - acc: 1.0000 - val_loss: 1.1022e-07 - val_acc: 1.0000\n",
      "Epoch 9/15\n",
      "151/151 [==============================] - 40s 265ms/step - loss: 4.0081e-06 - acc: 1.0000 - val_loss: 1.1023e-07 - val_acc: 1.0000\n",
      "Epoch 10/15\n",
      "151/151 [==============================] - 40s 264ms/step - loss: 3.1690e-06 - acc: 1.0000 - val_loss: 1.1020e-07 - val_acc: 1.0000\n",
      "Epoch 11/15\n",
      "151/151 [==============================] - 40s 265ms/step - loss: 1.0037e-04 - acc: 1.0000 - val_loss: 8.3505e-04 - val_acc: 1.0000\n",
      "Epoch 12/15\n",
      "151/151 [==============================] - 40s 264ms/step - loss: 1.4219e-05 - acc: 1.0000 - val_loss: 2.3811e-07 - val_acc: 1.0000\n",
      "Epoch 13/15\n",
      "151/151 [==============================] - 40s 264ms/step - loss: 1.4072e-06 - acc: 1.0000 - val_loss: 1.6420e-07 - val_acc: 1.0000\n",
      "Epoch 14/15\n",
      "151/151 [==============================] - 40s 264ms/step - loss: 2.5589e-06 - acc: 1.0000 - val_loss: 1.1522e-07 - val_acc: 1.0000\n",
      "Epoch 15/15\n",
      "151/151 [==============================] - 40s 264ms/step - loss: 2.3662e-07 - acc: 1.0000 - val_loss: 1.1281e-07 - val_acc: 1.0000\n"
     ]
    },
    {
     "data": {
      "text/plain": [
       "<keras.callbacks.History at 0x1cee14453c8>"
      ]
     },
     "execution_count": 3,
     "metadata": {},
     "output_type": "execute_result"
    }
   ],
   "source": [
    "from keras.preprocessing.image import ImageDataGenerator\n",
    "\n",
    "train_datagen = ImageDataGenerator(rescale = 1./255,\n",
    "                                   shear_range = 0.2,\n",
    "                                   zoom_range = 0.2,\n",
    "                                   horizontal_flip = True)\n",
    "\n",
    "test_datagen = ImageDataGenerator(rescale = 1./255)\n",
    "\n",
    "training_set = train_datagen.flow_from_directory(\"F:\\\\bikes-dataset\\\\train\",\n",
    "                                                 target_size = (150, 150),\n",
    "                                                 batch_size = 32,\n",
    "                                                 class_mode = 'binary')\n",
    "\n",
    "test_set = test_datagen.flow_from_directory(\"F:\\\\bikes-dataset\\\\test\",\n",
    "                                            target_size = (150, 150),\n",
    "                                            batch_size = 32,\n",
    "                                            class_mode = 'binary')\n",
    "\n",
    "classifier.fit_generator(training_set,\n",
    "                         steps_per_epoch = 151,\n",
    "                         epochs = 15,\n",
    "                         validation_data = test_set,\n",
    "                         validation_steps = 47)\n"
   ]
  },
  {
   "cell_type": "code",
   "execution_count": 4,
   "metadata": {},
   "outputs": [],
   "source": [
    "classifier.save(\"F:\\\\bikes-dataset\\\\bike.h5\")"
   ]
  },
  {
   "cell_type": "code",
   "execution_count": null,
   "metadata": {},
   "outputs": [],
   "source": [
    "from keras.preprocessing import image\n",
    "import numpy as np\n",
    "\n",
    "test_image=image.load_img(,target_size=(64,64))\n",
    "test_image=image.img_to_array(test_image)\n",
    "test_image=np.expand_dims(test_image,axis=0)\n",
    "result=classifier.predict(test_image)\n",
    "training_set.class_indices\n",
    "if result[0][0]==1:\n",
    "    prediction=\"mountain_bikes\"\n",
    "else:\n",
    "    prediction=\"road_bikes\"\n",
    "print(prediction)"
   ]
  }
 ],
 "metadata": {
  "kernelspec": {
   "display_name": "Python 3",
   "language": "python",
   "name": "python3"
  },
  "language_info": {
   "codemirror_mode": {
    "name": "ipython",
    "version": 3
   },
   "file_extension": ".py",
   "mimetype": "text/x-python",
   "name": "python",
   "nbconvert_exporter": "python",
   "pygments_lexer": "ipython3",
   "version": "3.6.6"
  }
 },
 "nbformat": 4,
 "nbformat_minor": 2
}
